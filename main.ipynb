{
 "cells": [
  {
   "cell_type": "markdown",
   "id": "impaired-raleigh",
   "metadata": {},
   "source": [
    "## Importing Libraries"
   ]
  },
  {
   "cell_type": "code",
   "execution_count": 1,
   "id": "dress-fifteen",
   "metadata": {},
   "outputs": [],
   "source": [
    "import pandas as pd\n",
    "import os\n",
    "import torch\n",
    "from torch.utils.data import Dataset\n",
    "import torchvision.transforms as transforms\n",
    "from PIL import Image\n",
    "import torch.nn as nn\n",
    "import torchvision.models as models\n",
    "import torch.nn as nn\n",
    "from torch.utils.data import DataLoader\n",
    "import torch.nn.functional  as f"
   ]
  },
  {
   "cell_type": "markdown",
   "id": "innocent-doctrine",
   "metadata": {},
   "source": [
    "## Setting Device to GPU for faster training"
   ]
  },
  {
   "cell_type": "code",
   "execution_count": 2,
   "id": "4a358113",
   "metadata": {},
   "outputs": [
    {
     "name": "stdout",
     "output_type": "stream",
     "text": [
      "1.10.0+cu113\n"
     ]
    }
   ],
   "source": [
    "import torch\n",
    "print(torch.__version__)"
   ]
  },
  {
   "cell_type": "code",
   "execution_count": 3,
   "id": "spiritual-whale",
   "metadata": {},
   "outputs": [],
   "source": [
    "device = (\"cuda\" if torch.cuda.is_available() else \"cpu\")"
   ]
  },
  {
   "cell_type": "markdown",
   "id": "experimental-apparel",
   "metadata": {},
   "source": [
    "## One Hot Encoding"
   ]
  },
  {
   "cell_type": "code",
   "execution_count": 4,
   "id": "listed-mercy",
   "metadata": {},
   "outputs": [
    {
     "name": "stdout",
     "output_type": "stream",
     "text": [
      "['urban_land', 'agriculture_land', 'rangeland', 'forest_land', 'water', 'barren_land', 'unknown']\n",
      "[0, 1, 2, 3, 4, 5, 6]\n",
      "[[0, 255, 255], [255, 255, 0], [255, 0, 255], [0, 255, 0], [0, 0, 255], [255, 255, 255], [0, 0, 0]]\n"
     ]
    }
   ],
   "source": [
    "class_dict = pd.read_csv('class_dict.csv')\n",
    "# Get class names\n",
    "class_names = class_dict['name'].tolist()\n",
    "print(class_names)\n",
    "class_labels = [index for index,label in enumerate(class_names)]\n",
    "print(class_labels)\n",
    "# Get class RGB values\n",
    "class_rgb_values = class_dict[['r','g','b']].values.tolist()\n",
    "print(class_rgb_values)"
   ]
  },
  {
   "cell_type": "markdown",
   "id": "modular-forty",
   "metadata": {},
   "source": [
    "## Custom Dataset For Training Images"
   ]
  },
  {
   "cell_type": "code",
   "execution_count": 5,
   "id": "bound-poultry",
   "metadata": {},
   "outputs": [],
   "source": [
    "class SatelliteImagesTrain(Dataset):\n",
    "    def __init__(self, csv_file, split, transform=None):\n",
    "        self.csv_file = pd.read_csv(csv_file)\n",
    "        self.transform = transform\n",
    "        self.split = split\n",
    "        self.class_labels = [[0, 1, 1], [1, 1, 0], [1, 0, 1], [0, 1, 0], [0, 0, 1], [1, 1, 1], [0, 0, 0]]\n",
    "        \n",
    "    def get_pixel_class_map(self,mask_img):\n",
    "        concat = []\n",
    "        for idx, rgb_combo in enumerate(self.class_labels):\n",
    "            x = torch.eq(mask_img.permute(1,2,0).type(torch.int64), torch.tensor(rgb_combo).unsqueeze(0).unsqueeze(0))\n",
    "            x_and = torch.logical_and(torch.logical_and(x[:,:,0],x[:,:,1]),x[:,:,2])\n",
    "            t = x_and.long()\n",
    "            t[t == 1] = idx+1\n",
    "            concat.append(t.unsqueeze(0))\n",
    "            \n",
    "        return torch.cat((concat[0],concat[1],concat[2],concat[3],concat[4],concat[5],concat[6]),dim = 0)\n",
    "    \n",
    "    def __len__(self):\n",
    "        return len(self.csv_file.where(self.csv_file[\"split\"] == self.split).dropna(axis = 0, how = 'all'))\n",
    "\n",
    "    def __getitem__(self, index):\n",
    "        sat_img_path = self.csv_file[\"sat_image_path\"].where(self.csv_file[\"split\"] == self.split).dropna(axis = 0, how = 'all')[index]\n",
    "        mask_img_path = self.csv_file[\"mask_path\"].where(self.csv_file[\"split\"] == self.split).dropna(axis = 0, how = 'all')[index]\n",
    "        sat_img = Image.open(sat_img_path).convert(\"RGB\")\n",
    "        mask_img = Image.open(mask_img_path).convert(\"RGB\")\n",
    "        \n",
    "        if self.transform is not None:\n",
    "            sat_img = self.transform(sat_img)\n",
    "            mask_img = self.transform(mask_img)\n",
    "\n",
    "        return (sat_img, self.get_pixel_class_map(mask_img))"
   ]
  },
  {
   "cell_type": "markdown",
   "id": "turned-complement",
   "metadata": {},
   "source": [
    "## Custom Dataset for validation and test set"
   ]
  },
  {
   "cell_type": "code",
   "execution_count": 6,
   "id": "exceptional-controversy",
   "metadata": {},
   "outputs": [],
   "source": [
    "class SatelliteImagesTestValid(Dataset):\n",
    "    def __init__(self, csv_file, split, transform=None):\n",
    "        self.csv_file = pd.read_csv(csv_file)\n",
    "        self.transform = transform\n",
    "        self.split = split\n",
    "        \n",
    "        \n",
    "    def __len__(self):\n",
    "        return len(self.csv_file.where(self.csv_file[\"split\"] == self.split).dropna(axis = 0, how = 'all').reset_index(drop = True))\n",
    "\n",
    "    def __getitem__(self, index):\n",
    "        sat_img_path = self.csv_file[\"sat_image_path\"].where(self.csv_file[\"split\"] == self.split).dropna(axis = 0, how = 'all').reset_index(drop = True)[index]\n",
    "        sat_img = Image.open(sat_img_path).convert(\"RGB\")\n",
    "        \n",
    "        if self.transform is not None:\n",
    "            sat_img = self.transform(sat_img)\n",
    "\n",
    "        return sat_img"
   ]
  },
  {
   "cell_type": "code",
   "execution_count": 7,
   "id": "short-warren",
   "metadata": {},
   "outputs": [],
   "source": [
    "train_dataset = SatelliteImagesTrain(csv_file = \"metadata.csv\",split = \"train\", transform = transforms.ToTensor())"
   ]
  },
  {
   "cell_type": "code",
   "execution_count": 8,
   "id": "viral-inspiration",
   "metadata": {},
   "outputs": [],
   "source": [
    "valid_dataset = SatelliteImagesTestValid(csv_file = \"metadata.csv\",split = \"valid\", transform = transforms.ToTensor())"
   ]
  },
  {
   "cell_type": "code",
   "execution_count": 9,
   "id": "painted-needle",
   "metadata": {},
   "outputs": [],
   "source": [
    "test_dataset = SatelliteImagesTestValid(csv_file = \"metadata.csv\",split = \"test\", transform = transforms.ToTensor())"
   ]
  },
  {
   "cell_type": "code",
   "execution_count": 10,
   "id": "prospective-location",
   "metadata": {},
   "outputs": [
    {
     "data": {
      "text/plain": [
       "803"
      ]
     },
     "execution_count": 10,
     "metadata": {},
     "output_type": "execute_result"
    }
   ],
   "source": [
    "len(train_dataset)"
   ]
  },
  {
   "cell_type": "code",
   "execution_count": 11,
   "id": "protecting-integer",
   "metadata": {},
   "outputs": [
    {
     "data": {
      "text/plain": [
       "171"
      ]
     },
     "execution_count": 11,
     "metadata": {},
     "output_type": "execute_result"
    }
   ],
   "source": [
    "len(valid_dataset)"
   ]
  },
  {
   "cell_type": "code",
   "execution_count": 12,
   "id": "prostate-context",
   "metadata": {},
   "outputs": [
    {
     "data": {
      "text/plain": [
       "172"
      ]
     },
     "execution_count": 12,
     "metadata": {},
     "output_type": "execute_result"
    }
   ],
   "source": [
    "len(test_dataset)"
   ]
  },
  {
   "cell_type": "markdown",
   "id": "lasting-highland",
   "metadata": {},
   "source": [
    "## Testing by printing images sizes and correspondiong tensors"
   ]
  },
  {
   "cell_type": "code",
   "execution_count": 13,
   "id": "combined-jacket",
   "metadata": {},
   "outputs": [
    {
     "name": "stdout",
     "output_type": "stream",
     "text": [
      "torch.Size([3, 2448, 2448])\n",
      "torch.Size([7, 2448, 2448])\n",
      "tensor([[[0, 0, 0,  ..., 0, 0, 0],\n",
      "         [0, 0, 0,  ..., 0, 0, 0],\n",
      "         [0, 0, 0,  ..., 0, 0, 0],\n",
      "         ...,\n",
      "         [0, 0, 0,  ..., 0, 0, 0],\n",
      "         [0, 0, 0,  ..., 0, 0, 0],\n",
      "         [0, 0, 0,  ..., 0, 0, 0]],\n",
      "\n",
      "        [[2, 2, 2,  ..., 2, 2, 2],\n",
      "         [2, 2, 2,  ..., 2, 2, 2],\n",
      "         [2, 2, 2,  ..., 2, 2, 2],\n",
      "         ...,\n",
      "         [2, 2, 2,  ..., 2, 2, 2],\n",
      "         [2, 2, 2,  ..., 2, 2, 2],\n",
      "         [2, 2, 2,  ..., 2, 2, 2]],\n",
      "\n",
      "        [[0, 0, 0,  ..., 0, 0, 0],\n",
      "         [0, 0, 0,  ..., 0, 0, 0],\n",
      "         [0, 0, 0,  ..., 0, 0, 0],\n",
      "         ...,\n",
      "         [0, 0, 0,  ..., 0, 0, 0],\n",
      "         [0, 0, 0,  ..., 0, 0, 0],\n",
      "         [0, 0, 0,  ..., 0, 0, 0]],\n",
      "\n",
      "        ...,\n",
      "\n",
      "        [[0, 0, 0,  ..., 0, 0, 0],\n",
      "         [0, 0, 0,  ..., 0, 0, 0],\n",
      "         [0, 0, 0,  ..., 0, 0, 0],\n",
      "         ...,\n",
      "         [0, 0, 0,  ..., 0, 0, 0],\n",
      "         [0, 0, 0,  ..., 0, 0, 0],\n",
      "         [0, 0, 0,  ..., 0, 0, 0]],\n",
      "\n",
      "        [[0, 0, 0,  ..., 0, 0, 0],\n",
      "         [0, 0, 0,  ..., 0, 0, 0],\n",
      "         [0, 0, 0,  ..., 0, 0, 0],\n",
      "         ...,\n",
      "         [0, 0, 0,  ..., 0, 0, 0],\n",
      "         [0, 0, 0,  ..., 0, 0, 0],\n",
      "         [0, 0, 0,  ..., 0, 0, 0]],\n",
      "\n",
      "        [[0, 0, 0,  ..., 0, 0, 0],\n",
      "         [0, 0, 0,  ..., 0, 0, 0],\n",
      "         [0, 0, 0,  ..., 0, 0, 0],\n",
      "         ...,\n",
      "         [0, 0, 0,  ..., 0, 0, 0],\n",
      "         [0, 0, 0,  ..., 0, 0, 0],\n",
      "         [0, 0, 0,  ..., 0, 0, 0]]])\n",
      "tensor([[[0.5059, 0.5059, 0.4980,  ..., 0.4078, 0.4078, 0.4078],\n",
      "         [0.5020, 0.4980, 0.4902,  ..., 0.4039, 0.4157, 0.4275],\n",
      "         [0.4902, 0.4941, 0.5020,  ..., 0.4196, 0.4314, 0.4471],\n",
      "         ...,\n",
      "         [0.6078, 0.6157, 0.6039,  ..., 0.6078, 0.5882, 0.6118],\n",
      "         [0.5843, 0.5961, 0.5922,  ..., 0.5804, 0.5294, 0.5255],\n",
      "         [0.5843, 0.5843, 0.5843,  ..., 0.5451, 0.5373, 0.5412]],\n",
      "\n",
      "        [[0.4275, 0.4275, 0.4196,  ..., 0.3529, 0.3451, 0.3451],\n",
      "         [0.4235, 0.4196, 0.4118,  ..., 0.3451, 0.3529, 0.3647],\n",
      "         [0.4118, 0.4157, 0.4235,  ..., 0.3608, 0.3686, 0.3843],\n",
      "         ...,\n",
      "         [0.5294, 0.5373, 0.5255,  ..., 0.5725, 0.5412, 0.5647],\n",
      "         [0.5059, 0.5176, 0.5137,  ..., 0.5333, 0.4824, 0.4784],\n",
      "         [0.5059, 0.5059, 0.5059,  ..., 0.4980, 0.4902, 0.4941]],\n",
      "\n",
      "        [[0.3216, 0.3216, 0.3137,  ..., 0.2510, 0.2471, 0.2431],\n",
      "         [0.3176, 0.3137, 0.3059,  ..., 0.2549, 0.2549, 0.2627],\n",
      "         [0.3059, 0.3098, 0.3176,  ..., 0.2706, 0.2706, 0.2863],\n",
      "         ...,\n",
      "         [0.3843, 0.3922, 0.3804,  ..., 0.4039, 0.3765, 0.4000],\n",
      "         [0.3686, 0.3804, 0.3765,  ..., 0.3686, 0.3176, 0.3137],\n",
      "         [0.3686, 0.3686, 0.3686,  ..., 0.3333, 0.3255, 0.3294]]])\n"
     ]
    }
   ],
   "source": [
    "for i,j in train_dataset:\n",
    "    j = j\n",
    "    print(i.size()) #sat image sizse\n",
    "    print(j.size()) #mask image size\n",
    "    print(j) # mask image tensor\n",
    "    print(i) # sat image tensor\n",
    "    break"
   ]
  },
  {
   "cell_type": "code",
   "execution_count": 14,
   "id": "romance-treaty",
   "metadata": {},
   "outputs": [
    {
     "name": "stdout",
     "output_type": "stream",
     "text": [
      "torch.Size([3, 2448, 2448])\n",
      "torch.Size([3, 2448, 2448])\n",
      "tensor([[[0.3725, 0.3569, 0.3647,  ..., 0.3020, 0.2471, 0.3216],\n",
      "         [0.3647, 0.3529, 0.3490,  ..., 0.3373, 0.3176, 0.3059],\n",
      "         [0.3490, 0.3490, 0.3451,  ..., 0.3686, 0.3765, 0.3373],\n",
      "         ...,\n",
      "         [0.2902, 0.2745, 0.2667,  ..., 0.1686, 0.2000, 0.1608],\n",
      "         [0.3059, 0.3059, 0.2902,  ..., 0.1490, 0.1529, 0.1451],\n",
      "         [0.2902, 0.3216, 0.3098,  ..., 0.1373, 0.1686, 0.1765]],\n",
      "\n",
      "        [[0.3529, 0.3373, 0.3451,  ..., 0.3098, 0.2392, 0.3137],\n",
      "         [0.3451, 0.3333, 0.3294,  ..., 0.3451, 0.3255, 0.3059],\n",
      "         [0.3373, 0.3373, 0.3255,  ..., 0.3922, 0.4000, 0.3608],\n",
      "         ...,\n",
      "         [0.2824, 0.2667, 0.2588,  ..., 0.1569, 0.1882, 0.1529],\n",
      "         [0.2980, 0.2980, 0.2902,  ..., 0.1373, 0.1412, 0.1333],\n",
      "         [0.2824, 0.3137, 0.3098,  ..., 0.1137, 0.1569, 0.1647]],\n",
      "\n",
      "        [[0.2353, 0.2196, 0.2196,  ..., 0.1647, 0.0902, 0.1647],\n",
      "         [0.2275, 0.2157, 0.2039,  ..., 0.2000, 0.1804, 0.1647],\n",
      "         [0.2157, 0.2157, 0.2078,  ..., 0.2510, 0.2588, 0.2196],\n",
      "         ...,\n",
      "         [0.1922, 0.1765, 0.1686,  ..., 0.0980, 0.1294, 0.0941],\n",
      "         [0.2078, 0.2078, 0.1961,  ..., 0.0784, 0.0824, 0.0745],\n",
      "         [0.1922, 0.2235, 0.2157,  ..., 0.0588, 0.0980, 0.1059]]])\n",
      "tensor([[[0.8000, 0.8235, 0.8510,  ..., 0.5255, 0.5059, 0.4902],\n",
      "         [0.8196, 0.8549, 0.8706,  ..., 0.4941, 0.5176, 0.5059],\n",
      "         [0.8392, 0.8588, 0.8627,  ..., 0.4824, 0.4902, 0.5059],\n",
      "         ...,\n",
      "         [0.5922, 0.5412, 0.5216,  ..., 0.5098, 0.5098, 0.4980],\n",
      "         [0.5569, 0.5294, 0.4863,  ..., 0.4784, 0.4941, 0.5020],\n",
      "         [0.5333, 0.4980, 0.4627,  ..., 0.5098, 0.5137, 0.5020]],\n",
      "\n",
      "        [[0.7373, 0.7647, 0.7961,  ..., 0.4745, 0.4549, 0.4392],\n",
      "         [0.7686, 0.8039, 0.8196,  ..., 0.4431, 0.4667, 0.4549],\n",
      "         [0.8000, 0.8157, 0.8157,  ..., 0.4314, 0.4392, 0.4549],\n",
      "         ...,\n",
      "         [0.5373, 0.4941, 0.4745,  ..., 0.4196, 0.4157, 0.4039],\n",
      "         [0.4941, 0.4745, 0.4353,  ..., 0.3843, 0.4000, 0.4078],\n",
      "         [0.4706, 0.4431, 0.4078,  ..., 0.4157, 0.4196, 0.4078]],\n",
      "\n",
      "        [[0.5961, 0.6118, 0.6431,  ..., 0.3412, 0.3216, 0.3059],\n",
      "         [0.6039, 0.6392, 0.6549,  ..., 0.3098, 0.3333, 0.3216],\n",
      "         [0.6078, 0.6353, 0.6510,  ..., 0.2980, 0.3059, 0.3216],\n",
      "         ...,\n",
      "         [0.3922, 0.3451, 0.3255,  ..., 0.2980, 0.3059, 0.2941],\n",
      "         [0.3529, 0.3294, 0.2980,  ..., 0.2745, 0.2902, 0.2980],\n",
      "         [0.3294, 0.2980, 0.2706,  ..., 0.3059, 0.3098, 0.2980]]])\n"
     ]
    }
   ],
   "source": [
    "for (i,j) in zip(valid_dataset,test_dataset):\n",
    "    print(i.size()) # valid sat img size\n",
    "    print(j.size()) # test img size\n",
    "    print(j) # test sat img tensor\n",
    "    print(i) # valid sat img tensor\n",
    "    break"
   ]
  },
  {
   "cell_type": "markdown",
   "id": "painful-association",
   "metadata": {},
   "source": [
    "## Model"
   ]
  },
  {
   "cell_type": "code",
   "execution_count": 15,
   "id": "wicked-north",
   "metadata": {},
   "outputs": [],
   "source": [
    "class Model(torch.nn.Module):\n",
    "    def __init__(self, n_classes = 7, channels = 3):\n",
    "        super().__init__()\n",
    "        self.conv1 = nn.Conv2d(3, 4, kernel_size=3, padding = 'same')\n",
    "        self.dropout1 = nn.Dropout(0.2)\n",
    "        self.conv2 = nn.Conv2d(4, 4, kernel_size=3, padding = 'same')\n",
    "        self.maxpool1 = nn.MaxPool2d(2)\n",
    "\n",
    "        self.conv3 = nn.Conv2d(4, 8, kernel_size=3, padding = 'same')\n",
    "        self.dropout2 = nn.Dropout(0.2)\n",
    "        self.conv4 = nn.Conv2d(8, 8, kernel_size=3, padding = 'same')\n",
    "        self.maxpool2 = nn.MaxPool2d(2)\n",
    "\n",
    "        self.conv5 = nn.Conv2d(8, 16, kernel_size=3, padding = 'same')\n",
    "        self.dropout3 = nn.Dropout(0.2)\n",
    "        self.conv6 = nn.Conv2d(16, 16, kernel_size=3, padding = 'same')\n",
    "        self.maxpool3 = nn.MaxPool2d(2)\n",
    "\n",
    "        self.conv7 = nn.Conv2d(16, 32, kernel_size=3, padding = 'same')\n",
    "        self.dropout4 = nn.Dropout(0.2)\n",
    "        self.conv8 = nn.Conv2d(32, 32, kernel_size=3, padding = 'same')\n",
    "        self.maxpool4 = nn.MaxPool2d(2)\n",
    "\n",
    "        self.conv9 = nn.Conv2d(32, 64, kernel_size=3, padding = 'same')\n",
    "        self.dropout5 = nn.Dropout(0.2)\n",
    "        self.conv10 = nn.Conv2d(64, 64, kernel_size=3, padding = 'same')\n",
    "\n",
    "        self.transConv1 = nn.ConvTranspose2d(64, 32, kernel_size=2, stride=2)\n",
    "        self.conv11 = nn.Conv2d(32, 32, kernel_size=3, padding = 'same')\n",
    "        self.dropout6 = nn.Dropout(0.2)\n",
    "        self.conv12 = nn.Conv2d(32, 32, kernel_size=3, padding = 'same')\n",
    "\n",
    "        self.transConv2 = nn.ConvTranspose2d(32, 16, kernel_size=2, stride=2)\n",
    "        self.conv13 = nn.Conv2d(16, 16, kernel_size=3, padding = 'same')\n",
    "        self.dropout7 = nn.Dropout(0.2)\n",
    "        self.conv14 = nn.Conv2d(16, 16, kernel_size=3, padding = 'same')\n",
    "\n",
    "        self.transConv3 = nn.ConvTranspose2d(16, 8, kernel_size=2, stride=2)\n",
    "        self.conv15 = nn.Conv2d(8, 8, kernel_size=3, padding = 'same')\n",
    "        self.dropout8 = nn.Dropout(0.2)\n",
    "        self.conv16 = nn.Conv2d(8, 8, kernel_size=3, padding = 'same')\n",
    "\n",
    "        self.transConv4 = nn.ConvTranspose2d(8, 4, kernel_size=2, stride=2)\n",
    "        self.conv17 = nn.Conv2d(4, 4, kernel_size=3, padding = 'same')\n",
    "        self.dropout9 = nn.Dropout(0.2)\n",
    "        self.conv18 = nn.Conv2d(4, 4, kernel_size=3, padding = 'same')\n",
    "\n",
    "        self.final_conv = nn.Conv2d(4, n_classes, kernel_size=1, padding = 'same')\n",
    "\n",
    "    def forward(self, x):\n",
    "        \"\"\" Encoder \"\"\"\n",
    "        x1 = nn.ReLU()(self.conv1(x))\n",
    "        x1 = self.dropout1(x1)\n",
    "        x1 = nn.ReLU()(self.conv2(x1))\n",
    "        p1 = self.maxpool1(x1)\n",
    "\n",
    "        x2 = nn.ReLU()(self.conv3(p1))\n",
    "        x2 = self.dropout2(x2)\n",
    "        x2 = nn.ReLU()(self.conv4(x2))\n",
    "        p2 = self.maxpool2(x2)\n",
    "\n",
    "        x3 = nn.ReLU()(self.conv5(p2))\n",
    "        x3 = self.dropout3(x3)\n",
    "        x3 = nn.ReLU()(self.conv6(x3))\n",
    "        p3 = self.maxpool3(x3)\n",
    "\n",
    "        x4 = nn.ReLU()(self.conv7(p3))\n",
    "        x4 = self.dropout4(x4)\n",
    "        x4 = nn.ReLU()(self.conv8(x4))\n",
    "        p4 = self.maxpool4(x4)\n",
    "\n",
    "        \"\"\"Transfer block\"\"\"\n",
    "        x5 = nn.ReLU()(self.conv9(p4))\n",
    "        x5 = self.dropout5(x5)\n",
    "        x5 = nn.ReLU()(self.conv10(x5))\n",
    "\n",
    "        \"\"\" Decoder \"\"\"\n",
    "        u6 = self.transConv1(x5)\n",
    "        u6 = torch.cat((u6, x4), 0)\n",
    "        x6 = nn.ReLU()(self.conv11(u6))\n",
    "        x6 = self.dropout6(x6)\n",
    "        x6 = nn.ReLU()(self.conv12(x6))\n",
    "\n",
    "        u7 = self.transConv2(x6)\n",
    "        u7 = torch.cat((u7, x3), 0)\n",
    "        x7 = nn.ReLU()(self.conv13(u7))\n",
    "        x7 = self.dropout7(x7)\n",
    "        x7 = nn.ReLU()(self.conv14(x7))\n",
    "\n",
    "        u8 = self.transConv3(x7)\n",
    "        u8 = torch.cat((u8, x2), 0)\n",
    "        x8 = nn.ReLU()(self.conv15(u8))\n",
    "        x8 = self.dropout8(x8)\n",
    "        x8 = nn.ReLU()(self.conv16(x8))\n",
    "\n",
    "        u9 = self.transConv4(x8)\n",
    "        u9 = torch.cat((u9, x1), 0)\n",
    "        x9 = nn.ReLU()(self.conv17(u9))\n",
    "        x9 = self.dropout9(x9)\n",
    "        x9 = nn.ReLU()(self.conv18(x9))\n",
    "\n",
    "        '''Classifier'''\n",
    "        output = self.final_conv(x9)\n",
    "        return output"
   ]
  },
  {
   "cell_type": "markdown",
   "id": "electoral-citizen",
   "metadata": {},
   "source": [
    "## Hyperparameters"
   ]
  },
  {
   "cell_type": "code",
   "execution_count": 16,
   "id": "accredited-basketball",
   "metadata": {},
   "outputs": [],
   "source": [
    "# Hyperparameters\n",
    "num_epochs = 10\n",
    "learning_rate = 0.001\n",
    "batch_size = 1\n",
    "shuffle = True\n",
    "pin_memory = True\n",
    "num_workers = 0"
   ]
  },
  {
   "cell_type": "markdown",
   "id": "dental-bathroom",
   "metadata": {},
   "source": [
    "## Creating dataloaders for train,valid, test from custom datasets"
   ]
  },
  {
   "cell_type": "code",
   "execution_count": 17,
   "id": "disciplinary-samoa",
   "metadata": {},
   "outputs": [],
   "source": [
    "train_loader = DataLoader(dataset=train_dataset, shuffle=shuffle, batch_size=batch_size,num_workers=num_workers,pin_memory=pin_memory)\n",
    "validation_loader = DataLoader(dataset=valid_dataset, shuffle=shuffle, batch_size=batch_size,num_workers=num_workers, pin_memory=pin_memory)\n",
    "test_loader = DataLoader(dataset=test_dataset, shuffle=shuffle, batch_size=batch_size,num_workers=num_workers, pin_memory=pin_memory)"
   ]
  },
  {
   "cell_type": "markdown",
   "id": "attractive-insider",
   "metadata": {},
   "source": [
    "## Setting the loss function, optimizer and learning rate"
   ]
  },
  {
   "cell_type": "code",
   "execution_count": 18,
   "id": "invisible-internship",
   "metadata": {},
   "outputs": [],
   "source": [
    "model = Model().to(device)\n",
    "criterion = nn.CrossEntropyLoss()\n",
    "# optimizer = torch.optim.Adam(model.parameters(), lr=learning_rate)"
   ]
  },
  {
   "cell_type": "code",
   "execution_count": 19,
   "id": "checked-james",
   "metadata": {},
   "outputs": [
    {
     "name": "stdout",
     "output_type": "stream",
     "text": [
      "torch.Size([5, 7, 2448, 2448])\n"
     ]
    }
   ],
   "source": [
    "for i,j in train_loader:\n",
    "    i = i.to(device)\n",
    "    print(model(i).size())\n",
    "    break"
   ]
  },
  {
   "cell_type": "markdown",
   "id": "patent-banks",
   "metadata": {},
   "source": [
    "## Helper Function to check accuracy"
   ]
  },
  {
   "cell_type": "code",
   "execution_count": 20,
   "id": "meaning-documentary",
   "metadata": {},
   "outputs": [],
   "source": [
    "# pending"
   ]
  },
  {
   "cell_type": "markdown",
   "id": "widespread-metropolitan",
   "metadata": {},
   "source": [
    "## Training Loop"
   ]
  },
  {
   "cell_type": "code",
   "execution_count": 21,
   "id": "prerequisite-showcase",
   "metadata": {},
   "outputs": [],
   "source": [
    "# epoch_loss_list = []\n",
    "# loop = tqdm(range(num_epochs),total = num_epochs)\n",
    "# for epoch in loop:\n",
    "#     epoch_loss = 0\n",
    "#     for sat_img, mask_img in train_dataloader:\n",
    "#         # Forward Propagation:\n",
    "#         sat_img = sat_img.to(device)\n",
    "#         mask_img = mask_img.to(device)\n",
    "#         output = model(sat_img)\n",
    "#         # Backward Propagation:\n",
    "#         loss = criterion(output, mask_img)\n",
    "#         epoch_loss+=loss.item()\n",
    "#         optimizer.zero_grad()\n",
    "#         loss.backward()\n",
    "#         optimizer.step()\n",
    "#     epoch_loss_list.append(loss.item())\n",
    "#     loop.set_postfix({\"Loss\":epoch_loss})"
   ]
  },
  {
   "cell_type": "markdown",
   "id": "scenic-pearl",
   "metadata": {},
   "source": [
    "## Epoch Loss Plot"
   ]
  },
  {
   "cell_type": "code",
   "execution_count": 22,
   "id": "limited-update",
   "metadata": {},
   "outputs": [],
   "source": [
    "# ## Plot Epoch Loss:\n",
    "# plt.figure(dpi=150)\n",
    "# plt.plot([epoch for epoch in range(num_epochs)], epoch_loss_list)\n",
    "# plt.xlabel(\"Epoch Number\")\n",
    "# plt.ylabel(\"Epoch Train Loss\")\n",
    "# plt.title(\"CNN Train Loss plot Per Epoch\")\n",
    "# plt.show()"
   ]
  }
 ],
 "metadata": {
  "kernelspec": {
   "display_name": "Python 3 (ipykernel)",
   "language": "python",
   "name": "python3"
  },
  "language_info": {
   "codemirror_mode": {
    "name": "ipython",
    "version": 3
   },
   "file_extension": ".py",
   "mimetype": "text/x-python",
   "name": "python",
   "nbconvert_exporter": "python",
   "pygments_lexer": "ipython3",
   "version": "3.9.7"
  }
 },
 "nbformat": 4,
 "nbformat_minor": 5
}
