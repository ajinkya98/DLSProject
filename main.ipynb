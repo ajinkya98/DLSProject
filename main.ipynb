{
 "cells": [
  {
   "cell_type": "markdown",
   "id": "impaired-raleigh",
   "metadata": {},
   "source": [
    "## Importing Libraries"
   ]
  },
  {
   "cell_type": "code",
   "execution_count": 1,
   "id": "dress-fifteen",
   "metadata": {},
   "outputs": [],
   "source": [
    "import time\n",
    "import pandas as pd\n",
    "import os\n",
    "import torch\n",
    "from torch.utils.data import Dataset\n",
    "import torchvision.transforms as transforms\n",
    "from PIL import Image\n",
    "import torch.nn as nn\n",
    "import torchvision.models as models\n",
    "import torch.nn as nn\n",
    "from torch.utils.data import DataLoader\n",
    "import torch.nn.functional  as f\n",
    "from torchvision import transforms\n",
    "from tqdm.notebook import tqdm\n",
    "import matplotlib.pyplot as plt\n",
    "import itertools\n",
    "import IPython"
   ]
  },
  {
   "cell_type": "markdown",
   "id": "innocent-doctrine",
   "metadata": {},
   "source": [
    "## Setting Device to GPU for faster training"
   ]
  },
  {
   "cell_type": "code",
   "execution_count": 2,
   "id": "5628c179",
   "metadata": {},
   "outputs": [
    {
     "name": "stdout",
     "output_type": "stream",
     "text": [
      "1.10.0+cu113\n"
     ]
    }
   ],
   "source": [
    "import torch\n",
    "print(torch.__version__)"
   ]
  },
  {
   "cell_type": "code",
   "execution_count": 3,
   "id": "spiritual-whale",
   "metadata": {},
   "outputs": [],
   "source": [
    "device = (\"cuda\" if torch.cuda.is_available() else \"cpu\")"
   ]
  },
  {
   "cell_type": "markdown",
   "id": "experimental-apparel",
   "metadata": {},
   "source": [
    "## One Hot Encoding"
   ]
  },
  {
   "cell_type": "code",
   "execution_count": 4,
   "id": "listed-mercy",
   "metadata": {},
   "outputs": [
    {
     "name": "stdout",
     "output_type": "stream",
     "text": [
      "['urban_land', 'agriculture_land', 'rangeland', 'forest_land', 'water', 'barren_land', 'unknown']\n",
      "[0, 1, 2, 3, 4, 5, 6]\n",
      "[[0, 255, 255], [255, 255, 0], [255, 0, 255], [0, 255, 0], [0, 0, 255], [255, 255, 255], [0, 0, 0]]\n"
     ]
    }
   ],
   "source": [
    "class_dict = pd.read_csv('class_dict.csv')\n",
    "# Get class names\n",
    "class_names = class_dict['name'].tolist()\n",
    "print(class_names)\n",
    "class_labels = [index for index,label in enumerate(class_names)]\n",
    "print(class_labels)\n",
    "# Get class RGB values\n",
    "class_rgb_values = class_dict[['r','g','b']].values.tolist()\n",
    "print(class_rgb_values)"
   ]
  },
  {
   "cell_type": "markdown",
   "id": "modular-forty",
   "metadata": {},
   "source": [
    "## Custom Dataset For Training Images"
   ]
  },
  {
   "cell_type": "code",
   "execution_count": 5,
   "id": "bound-poultry",
   "metadata": {},
   "outputs": [],
   "source": [
    "class SatelliteImagesTrain(Dataset):\n",
    "    def __init__(self, csv_file, split, transform=None):\n",
    "        self.csv_file = pd.read_csv(csv_file)\n",
    "        self.transform = transform\n",
    "        self.split = split\n",
    "        self.class_labels = [[0, 1, 1], [1, 1, 0], [1, 0, 1], [0, 1, 0], [0, 0, 1], [1, 1, 1], [0, 0, 0]]\n",
    "        \n",
    "    def get_pixel_class_map(self,mask_img):\n",
    "        concat = []\n",
    "        for idx, rgb_combo in enumerate(self.class_labels):\n",
    "            x = torch.eq(mask_img.permute(1,2,0).type(torch.int64), torch.tensor(rgb_combo).unsqueeze(0).unsqueeze(0))\n",
    "            x_and = torch.logical_and(torch.logical_and(x[:,:,0],x[:,:,1]),x[:,:,2])\n",
    "            t = x_and.long()\n",
    "            t[t == 1] = idx+1\n",
    "            concat.append(t.unsqueeze(0))\n",
    "            \n",
    "        return torch.cat((concat[0],concat[1],concat[2],concat[3],concat[4],concat[5],concat[6]),dim = 0)\n",
    "    \n",
    "    def __len__(self):\n",
    "        return len(self.csv_file.where(self.csv_file[\"split\"] == self.split).dropna(axis = 0, how = 'all'))\n",
    "\n",
    "    def __getitem__(self, index):\n",
    "        sat_img_path = self.csv_file[\"sat_image_path\"].where(self.csv_file[\"split\"] == self.split).dropna(axis = 0, how = 'all')[index]\n",
    "        mask_img_path = self.csv_file[\"mask_path\"].where(self.csv_file[\"split\"] == self.split).dropna(axis = 0, how = 'all')[index]\n",
    "        sat_img = Image.open(sat_img_path).convert(\"RGB\")\n",
    "        mask_img = Image.open(mask_img_path).convert(\"RGB\")\n",
    "        \n",
    "        if self.transform is not None:\n",
    "            sat_img = self.transform(sat_img)\n",
    "            mask_img = self.transform(mask_img)\n",
    "\n",
    "        return (sat_img, self.get_pixel_class_map(mask_img))"
   ]
  },
  {
   "cell_type": "markdown",
   "id": "turned-complement",
   "metadata": {},
   "source": [
    "## Custom Dataset for validation and test set"
   ]
  },
  {
   "cell_type": "code",
   "execution_count": 6,
   "id": "exceptional-controversy",
   "metadata": {},
   "outputs": [],
   "source": [
    "class SatelliteImagesTestValid(Dataset):\n",
    "    def __init__(self, csv_file, split, transform=None):\n",
    "        self.csv_file = pd.read_csv(csv_file)\n",
    "        self.transform = transform\n",
    "        self.split = split\n",
    "        \n",
    "        \n",
    "    def __len__(self):\n",
    "        return len(self.csv_file.where(self.csv_file[\"split\"] == self.split).dropna(axis = 0, how = 'all').reset_index(drop = True))\n",
    "\n",
    "    def __getitem__(self, index):\n",
    "        sat_img_path = self.csv_file[\"sat_image_path\"].where(self.csv_file[\"split\"] == self.split).dropna(axis = 0, how = 'all').reset_index(drop = True)[index]\n",
    "        sat_img = Image.open(sat_img_path).convert(\"RGB\")\n",
    "        \n",
    "        if self.transform is not None:\n",
    "            sat_img = self.transform(sat_img)\n",
    "\n",
    "        return sat_img"
   ]
  },
  {
   "cell_type": "code",
   "execution_count": 7,
   "id": "3ed52558",
   "metadata": {},
   "outputs": [],
   "source": [
    "transform = transforms.Compose([\n",
    "                               transforms.Resize((128,128)),\n",
    "                               transforms.ToTensor()\n",
    "                               ])"
   ]
  },
  {
   "cell_type": "code",
   "execution_count": 8,
   "id": "short-warren",
   "metadata": {},
   "outputs": [],
   "source": [
    "train_dataset = SatelliteImagesTrain(csv_file = \"metadata.csv\",split = \"train\", transform = transform)"
   ]
  },
  {
   "cell_type": "code",
   "execution_count": 9,
   "id": "viral-inspiration",
   "metadata": {},
   "outputs": [],
   "source": [
    "valid_dataset = SatelliteImagesTestValid(csv_file = \"metadata.csv\",split = \"valid\", transform = transform)"
   ]
  },
  {
   "cell_type": "code",
   "execution_count": 10,
   "id": "painted-needle",
   "metadata": {},
   "outputs": [],
   "source": [
    "test_dataset = SatelliteImagesTestValid(csv_file = \"metadata.csv\",split = \"test\", transform = transform)"
   ]
  },
  {
   "cell_type": "code",
   "execution_count": 11,
   "id": "prospective-location",
   "metadata": {},
   "outputs": [
    {
     "data": {
      "text/plain": [
       "803"
      ]
     },
     "execution_count": 11,
     "metadata": {},
     "output_type": "execute_result"
    }
   ],
   "source": [
    "len(train_dataset)"
   ]
  },
  {
   "cell_type": "code",
   "execution_count": 12,
   "id": "protecting-integer",
   "metadata": {},
   "outputs": [
    {
     "data": {
      "text/plain": [
       "171"
      ]
     },
     "execution_count": 12,
     "metadata": {},
     "output_type": "execute_result"
    }
   ],
   "source": [
    "len(valid_dataset)"
   ]
  },
  {
   "cell_type": "code",
   "execution_count": 13,
   "id": "prostate-context",
   "metadata": {},
   "outputs": [
    {
     "data": {
      "text/plain": [
       "172"
      ]
     },
     "execution_count": 13,
     "metadata": {},
     "output_type": "execute_result"
    }
   ],
   "source": [
    "len(test_dataset)"
   ]
  },
  {
   "cell_type": "markdown",
   "id": "painful-association",
   "metadata": {},
   "source": [
    "## Model"
   ]
  },
  {
   "cell_type": "code",
   "execution_count": 14,
   "id": "wicked-north",
   "metadata": {},
   "outputs": [],
   "source": [
    "class Model(torch.nn.Module):\n",
    "    def __init__(self, n_classes = 7, channels = 3):\n",
    "        super().__init__()\n",
    "        self.conv1 = nn.Conv2d(3, 4, kernel_size=3, padding = 'same')\n",
    "        self.dropout1 = nn.Dropout(0.2)\n",
    "        self.conv2 = nn.Conv2d(4, 4, kernel_size=3, padding = 'same')\n",
    "        self.maxpool1 = nn.MaxPool2d(2)\n",
    "\n",
    "        self.conv3 = nn.Conv2d(4, 8, kernel_size=3, padding = 'same')\n",
    "        self.dropout2 = nn.Dropout(0.2)\n",
    "        self.conv4 = nn.Conv2d(8, 8, kernel_size=3, padding = 'same')\n",
    "        self.maxpool2 = nn.MaxPool2d(2)\n",
    "\n",
    "        self.conv5 = nn.Conv2d(8, 16, kernel_size=3, padding = 'same')\n",
    "        self.dropout3 = nn.Dropout(0.2)\n",
    "        self.conv6 = nn.Conv2d(16, 16, kernel_size=3, padding = 'same')\n",
    "        self.maxpool3 = nn.MaxPool2d(2)\n",
    "\n",
    "        self.conv7 = nn.Conv2d(16, 32, kernel_size=3, padding = 'same')\n",
    "        self.dropout4 = nn.Dropout(0.2)\n",
    "        self.conv8 = nn.Conv2d(32, 32, kernel_size=3, padding = 'same')\n",
    "        self.maxpool4 = nn.MaxPool2d(2)\n",
    "\n",
    "        self.conv9 = nn.Conv2d(32, 64, kernel_size=3, padding = 'same')\n",
    "        self.dropout5 = nn.Dropout(0.2)\n",
    "        self.conv10 = nn.Conv2d(64, 64, kernel_size=3, padding = 'same')\n",
    "\n",
    "        self.transConv1 = nn.ConvTranspose2d(64, 32, kernel_size=2, stride=2)\n",
    "        self.conv11 = nn.Conv2d(64, 32, kernel_size=3, padding = 'same')\n",
    "        self.dropout6 = nn.Dropout(0.2)\n",
    "        self.conv12 = nn.Conv2d(32, 32, kernel_size=3, padding = 'same')\n",
    "\n",
    "        self.transConv2 = nn.ConvTranspose2d(32, 16, kernel_size=2, stride=2)\n",
    "        self.conv13 = nn.Conv2d(32, 16, kernel_size=3, padding = 'same')\n",
    "        self.dropout7 = nn.Dropout(0.2)\n",
    "        self.conv14 = nn.Conv2d(16, 16, kernel_size=3, padding = 'same')\n",
    "\n",
    "        self.transConv3 = nn.ConvTranspose2d(16, 8, kernel_size=2, stride=2)\n",
    "        self.conv15 = nn.Conv2d(16, 8, kernel_size=3, padding = 'same')\n",
    "        self.dropout8 = nn.Dropout(0.2)\n",
    "        self.conv16 = nn.Conv2d(8, 8, kernel_size=3, padding = 'same')\n",
    "\n",
    "        self.transConv4 = nn.ConvTranspose2d(8, 4, kernel_size=2, stride=2)\n",
    "        self.conv17 = nn.Conv2d(8, 4, kernel_size=3, padding = 'same')\n",
    "        self.dropout9 = nn.Dropout(0.2)\n",
    "        self.conv18 = nn.Conv2d(4, 4, kernel_size=3, padding = 'same')\n",
    "\n",
    "        self.final_conv = nn.Conv2d(4, n_classes, kernel_size=1, padding = 'same')\n",
    "\n",
    "    def forward(self, x):\n",
    "        \"\"\" Encoder \"\"\"\n",
    "        x1 = nn.ReLU()(self.conv1(x))\n",
    "        x1 = self.dropout1(x1)\n",
    "        x1 = nn.ReLU()(self.conv2(x1))\n",
    "        p1 = self.maxpool1(x1)\n",
    "\n",
    "        x2 = nn.ReLU()(self.conv3(p1))\n",
    "        x2 = self.dropout2(x2)\n",
    "        x2 = nn.ReLU()(self.conv4(x2))\n",
    "        p2 = self.maxpool2(x2)\n",
    "\n",
    "        x3 = nn.ReLU()(self.conv5(p2))\n",
    "        x3 = self.dropout3(x3)\n",
    "        x3 = nn.ReLU()(self.conv6(x3))\n",
    "        p3 = self.maxpool3(x3)\n",
    "\n",
    "        x4 = nn.ReLU()(self.conv7(p3))\n",
    "        x4 = self.dropout4(x4)\n",
    "        x4 = nn.ReLU()(self.conv8(x4))\n",
    "        p4 = self.maxpool4(x4)\n",
    "\n",
    "        \"\"\"Transfer block\"\"\"\n",
    "        x5 = nn.ReLU()(self.conv9(p4))\n",
    "        x5 = self.dropout5(x5)\n",
    "        x5 = nn.ReLU()(self.conv10(x5))\n",
    "\n",
    "        \"\"\" Decoder \"\"\"\n",
    "        u6 = self.transConv1(x5)\n",
    "        u6 = torch.cat((u6, x4), 1)\n",
    "        x6 = nn.ReLU()(self.conv11(u6))\n",
    "        x6 = self.dropout6(x6)\n",
    "        x6 = nn.ReLU()(self.conv12(x6))\n",
    "\n",
    "        u7 = self.transConv2(x6)\n",
    "        u7 = torch.cat((u7, x3), 1)\n",
    "        x7 = nn.ReLU()(self.conv13(u7))\n",
    "        x7 = self.dropout7(x7)\n",
    "        x7 = nn.ReLU()(self.conv14(x7))\n",
    "\n",
    "        u8 = self.transConv3(x7)\n",
    "        u8 = torch.cat((u8, x2), 1)\n",
    "        x8 = nn.ReLU()(self.conv15(u8))\n",
    "        x8 = self.dropout8(x8)\n",
    "        x8 = nn.ReLU()(self.conv16(x8))\n",
    "\n",
    "        u9 = self.transConv4(x8)\n",
    "        u9 = torch.cat((u9, x1), 1)\n",
    "        x9 = nn.ReLU()(self.conv17(u9))\n",
    "        x9 = self.dropout9(x9)\n",
    "        x9 = nn.ReLU()(self.conv18(x9))\n",
    "\n",
    "        '''Classifier'''\n",
    "        output = self.final_conv(x9)\n",
    "        return output"
   ]
  },
  {
   "cell_type": "markdown",
   "id": "electoral-citizen",
   "metadata": {},
   "source": [
    "## Hyperparameters"
   ]
  },
  {
   "cell_type": "code",
   "execution_count": 15,
   "id": "accredited-basketball",
   "metadata": {},
   "outputs": [],
   "source": [
    "# Hyperparameters\n",
    "num_epochs = 5\n",
    "learning_rate = 0.001\n",
    "batch_size = 2\n",
    "shuffle = True\n",
    "pin_memory = True\n",
    "num_workers = 0"
   ]
  },
  {
   "cell_type": "markdown",
   "id": "dental-bathroom",
   "metadata": {},
   "source": [
    "## Creating dataloaders for train,valid, test from custom datasets"
   ]
  },
  {
   "cell_type": "code",
   "execution_count": 16,
   "id": "disciplinary-samoa",
   "metadata": {},
   "outputs": [],
   "source": [
    "train_loader = DataLoader(dataset=train_dataset, shuffle=shuffle, batch_size=batch_size,num_workers=num_workers,pin_memory=pin_memory)\n",
    "validation_loader = DataLoader(dataset=valid_dataset, shuffle=shuffle, batch_size=batch_size,num_workers=num_workers, pin_memory=pin_memory)\n",
    "test_loader = DataLoader(dataset=test_dataset, shuffle=shuffle, batch_size=batch_size,num_workers=num_workers, pin_memory=pin_memory)"
   ]
  },
  {
   "cell_type": "markdown",
   "id": "attractive-insider",
   "metadata": {},
   "source": [
    "## Setting the loss function, optimizer and learning rate"
   ]
  },
  {
   "cell_type": "code",
   "execution_count": 17,
   "id": "invisible-internship",
   "metadata": {},
   "outputs": [],
   "source": [
    "model = Model().to(device)\n",
    "criterion = nn.CrossEntropyLoss()\n",
    "optimizer = torch.optim.Adam(model.parameters(), lr=learning_rate)"
   ]
  },
  {
   "cell_type": "markdown",
   "id": "patent-banks",
   "metadata": {},
   "source": [
    "## Helper Function to check accuracy"
   ]
  },
  {
   "cell_type": "code",
   "execution_count": 18,
   "id": "meaning-documentary",
   "metadata": {},
   "outputs": [],
   "source": [
    "# pending"
   ]
  },
  {
   "cell_type": "markdown",
   "id": "widespread-metropolitan",
   "metadata": {},
   "source": [
    "## Training Loop"
   ]
  },
  {
   "cell_type": "code",
   "execution_count": 19,
   "id": "prerequisite-showcase",
   "metadata": {},
   "outputs": [
    {
     "data": {
      "application/vnd.jupyter.widget-view+json": {
       "model_id": "86faaf968b8245208c6e852052cdb467",
       "version_major": 2,
       "version_minor": 0
      },
      "text/plain": [
       "  0%|          | 0/5 [00:00<?, ?it/s]"
      ]
     },
     "metadata": {},
     "output_type": "display_data"
    },
    {
     "ename": "KeyboardInterrupt",
     "evalue": "",
     "output_type": "error",
     "traceback": [
      "\u001b[1;31m---------------------------------------------------------------------------\u001b[0m",
      "\u001b[1;31mKeyboardInterrupt\u001b[0m                         Traceback (most recent call last)",
      "\u001b[1;32m~\\AppData\\Local\\Temp/ipykernel_21780/2576427937.py\u001b[0m in \u001b[0;36m<module>\u001b[1;34m\u001b[0m\n\u001b[0;32m      3\u001b[0m \u001b[1;32mfor\u001b[0m \u001b[0mepoch\u001b[0m \u001b[1;32min\u001b[0m \u001b[0mloop\u001b[0m\u001b[1;33m:\u001b[0m\u001b[1;33m\u001b[0m\u001b[1;33m\u001b[0m\u001b[0m\n\u001b[0;32m      4\u001b[0m     \u001b[0mepoch_loss\u001b[0m \u001b[1;33m=\u001b[0m \u001b[1;36m0\u001b[0m\u001b[1;33m\u001b[0m\u001b[1;33m\u001b[0m\u001b[0m\n\u001b[1;32m----> 5\u001b[1;33m     \u001b[1;32mfor\u001b[0m \u001b[0msat_img\u001b[0m\u001b[1;33m,\u001b[0m \u001b[0mmask_img\u001b[0m \u001b[1;32min\u001b[0m \u001b[0mtrain_loader\u001b[0m\u001b[1;33m:\u001b[0m\u001b[1;33m\u001b[0m\u001b[1;33m\u001b[0m\u001b[0m\n\u001b[0m\u001b[0;32m      6\u001b[0m         \u001b[1;31m# Forward Propagation:\u001b[0m\u001b[1;33m\u001b[0m\u001b[1;33m\u001b[0m\u001b[0m\n\u001b[0;32m      7\u001b[0m         \u001b[0msat_img\u001b[0m \u001b[1;33m=\u001b[0m \u001b[0msat_img\u001b[0m\u001b[1;33m.\u001b[0m\u001b[0mto\u001b[0m\u001b[1;33m(\u001b[0m\u001b[0mdevice\u001b[0m\u001b[1;33m)\u001b[0m\u001b[1;33m\u001b[0m\u001b[1;33m\u001b[0m\u001b[0m\n",
      "\u001b[1;32mC:\\Python39\\lib\\site-packages\\torch\\utils\\data\\dataloader.py\u001b[0m in \u001b[0;36m__next__\u001b[1;34m(self)\u001b[0m\n\u001b[0;32m    519\u001b[0m             \u001b[1;32mif\u001b[0m \u001b[0mself\u001b[0m\u001b[1;33m.\u001b[0m\u001b[0m_sampler_iter\u001b[0m \u001b[1;32mis\u001b[0m \u001b[1;32mNone\u001b[0m\u001b[1;33m:\u001b[0m\u001b[1;33m\u001b[0m\u001b[1;33m\u001b[0m\u001b[0m\n\u001b[0;32m    520\u001b[0m                 \u001b[0mself\u001b[0m\u001b[1;33m.\u001b[0m\u001b[0m_reset\u001b[0m\u001b[1;33m(\u001b[0m\u001b[1;33m)\u001b[0m\u001b[1;33m\u001b[0m\u001b[1;33m\u001b[0m\u001b[0m\n\u001b[1;32m--> 521\u001b[1;33m             \u001b[0mdata\u001b[0m \u001b[1;33m=\u001b[0m \u001b[0mself\u001b[0m\u001b[1;33m.\u001b[0m\u001b[0m_next_data\u001b[0m\u001b[1;33m(\u001b[0m\u001b[1;33m)\u001b[0m\u001b[1;33m\u001b[0m\u001b[1;33m\u001b[0m\u001b[0m\n\u001b[0m\u001b[0;32m    522\u001b[0m             \u001b[0mself\u001b[0m\u001b[1;33m.\u001b[0m\u001b[0m_num_yielded\u001b[0m \u001b[1;33m+=\u001b[0m \u001b[1;36m1\u001b[0m\u001b[1;33m\u001b[0m\u001b[1;33m\u001b[0m\u001b[0m\n\u001b[0;32m    523\u001b[0m             \u001b[1;32mif\u001b[0m \u001b[0mself\u001b[0m\u001b[1;33m.\u001b[0m\u001b[0m_dataset_kind\u001b[0m \u001b[1;33m==\u001b[0m \u001b[0m_DatasetKind\u001b[0m\u001b[1;33m.\u001b[0m\u001b[0mIterable\u001b[0m \u001b[1;32mand\u001b[0m\u001b[0;31m \u001b[0m\u001b[0;31m\\\u001b[0m\u001b[1;33m\u001b[0m\u001b[1;33m\u001b[0m\u001b[0m\n",
      "\u001b[1;32mC:\\Python39\\lib\\site-packages\\torch\\utils\\data\\dataloader.py\u001b[0m in \u001b[0;36m_next_data\u001b[1;34m(self)\u001b[0m\n\u001b[0;32m    559\u001b[0m     \u001b[1;32mdef\u001b[0m \u001b[0m_next_data\u001b[0m\u001b[1;33m(\u001b[0m\u001b[0mself\u001b[0m\u001b[1;33m)\u001b[0m\u001b[1;33m:\u001b[0m\u001b[1;33m\u001b[0m\u001b[1;33m\u001b[0m\u001b[0m\n\u001b[0;32m    560\u001b[0m         \u001b[0mindex\u001b[0m \u001b[1;33m=\u001b[0m \u001b[0mself\u001b[0m\u001b[1;33m.\u001b[0m\u001b[0m_next_index\u001b[0m\u001b[1;33m(\u001b[0m\u001b[1;33m)\u001b[0m  \u001b[1;31m# may raise StopIteration\u001b[0m\u001b[1;33m\u001b[0m\u001b[1;33m\u001b[0m\u001b[0m\n\u001b[1;32m--> 561\u001b[1;33m         \u001b[0mdata\u001b[0m \u001b[1;33m=\u001b[0m \u001b[0mself\u001b[0m\u001b[1;33m.\u001b[0m\u001b[0m_dataset_fetcher\u001b[0m\u001b[1;33m.\u001b[0m\u001b[0mfetch\u001b[0m\u001b[1;33m(\u001b[0m\u001b[0mindex\u001b[0m\u001b[1;33m)\u001b[0m  \u001b[1;31m# may raise StopIteration\u001b[0m\u001b[1;33m\u001b[0m\u001b[1;33m\u001b[0m\u001b[0m\n\u001b[0m\u001b[0;32m    562\u001b[0m         \u001b[1;32mif\u001b[0m \u001b[0mself\u001b[0m\u001b[1;33m.\u001b[0m\u001b[0m_pin_memory\u001b[0m\u001b[1;33m:\u001b[0m\u001b[1;33m\u001b[0m\u001b[1;33m\u001b[0m\u001b[0m\n\u001b[0;32m    563\u001b[0m             \u001b[0mdata\u001b[0m \u001b[1;33m=\u001b[0m \u001b[0m_utils\u001b[0m\u001b[1;33m.\u001b[0m\u001b[0mpin_memory\u001b[0m\u001b[1;33m.\u001b[0m\u001b[0mpin_memory\u001b[0m\u001b[1;33m(\u001b[0m\u001b[0mdata\u001b[0m\u001b[1;33m)\u001b[0m\u001b[1;33m\u001b[0m\u001b[1;33m\u001b[0m\u001b[0m\n",
      "\u001b[1;32mC:\\Python39\\lib\\site-packages\\torch\\utils\\data\\_utils\\fetch.py\u001b[0m in \u001b[0;36mfetch\u001b[1;34m(self, possibly_batched_index)\u001b[0m\n\u001b[0;32m     47\u001b[0m     \u001b[1;32mdef\u001b[0m \u001b[0mfetch\u001b[0m\u001b[1;33m(\u001b[0m\u001b[0mself\u001b[0m\u001b[1;33m,\u001b[0m \u001b[0mpossibly_batched_index\u001b[0m\u001b[1;33m)\u001b[0m\u001b[1;33m:\u001b[0m\u001b[1;33m\u001b[0m\u001b[1;33m\u001b[0m\u001b[0m\n\u001b[0;32m     48\u001b[0m         \u001b[1;32mif\u001b[0m \u001b[0mself\u001b[0m\u001b[1;33m.\u001b[0m\u001b[0mauto_collation\u001b[0m\u001b[1;33m:\u001b[0m\u001b[1;33m\u001b[0m\u001b[1;33m\u001b[0m\u001b[0m\n\u001b[1;32m---> 49\u001b[1;33m             \u001b[0mdata\u001b[0m \u001b[1;33m=\u001b[0m \u001b[1;33m[\u001b[0m\u001b[0mself\u001b[0m\u001b[1;33m.\u001b[0m\u001b[0mdataset\u001b[0m\u001b[1;33m[\u001b[0m\u001b[0midx\u001b[0m\u001b[1;33m]\u001b[0m \u001b[1;32mfor\u001b[0m \u001b[0midx\u001b[0m \u001b[1;32min\u001b[0m \u001b[0mpossibly_batched_index\u001b[0m\u001b[1;33m]\u001b[0m\u001b[1;33m\u001b[0m\u001b[1;33m\u001b[0m\u001b[0m\n\u001b[0m\u001b[0;32m     50\u001b[0m         \u001b[1;32melse\u001b[0m\u001b[1;33m:\u001b[0m\u001b[1;33m\u001b[0m\u001b[1;33m\u001b[0m\u001b[0m\n\u001b[0;32m     51\u001b[0m             \u001b[0mdata\u001b[0m \u001b[1;33m=\u001b[0m \u001b[0mself\u001b[0m\u001b[1;33m.\u001b[0m\u001b[0mdataset\u001b[0m\u001b[1;33m[\u001b[0m\u001b[0mpossibly_batched_index\u001b[0m\u001b[1;33m]\u001b[0m\u001b[1;33m\u001b[0m\u001b[1;33m\u001b[0m\u001b[0m\n",
      "\u001b[1;32mC:\\Python39\\lib\\site-packages\\torch\\utils\\data\\_utils\\fetch.py\u001b[0m in \u001b[0;36m<listcomp>\u001b[1;34m(.0)\u001b[0m\n\u001b[0;32m     47\u001b[0m     \u001b[1;32mdef\u001b[0m \u001b[0mfetch\u001b[0m\u001b[1;33m(\u001b[0m\u001b[0mself\u001b[0m\u001b[1;33m,\u001b[0m \u001b[0mpossibly_batched_index\u001b[0m\u001b[1;33m)\u001b[0m\u001b[1;33m:\u001b[0m\u001b[1;33m\u001b[0m\u001b[1;33m\u001b[0m\u001b[0m\n\u001b[0;32m     48\u001b[0m         \u001b[1;32mif\u001b[0m \u001b[0mself\u001b[0m\u001b[1;33m.\u001b[0m\u001b[0mauto_collation\u001b[0m\u001b[1;33m:\u001b[0m\u001b[1;33m\u001b[0m\u001b[1;33m\u001b[0m\u001b[0m\n\u001b[1;32m---> 49\u001b[1;33m             \u001b[0mdata\u001b[0m \u001b[1;33m=\u001b[0m \u001b[1;33m[\u001b[0m\u001b[0mself\u001b[0m\u001b[1;33m.\u001b[0m\u001b[0mdataset\u001b[0m\u001b[1;33m[\u001b[0m\u001b[0midx\u001b[0m\u001b[1;33m]\u001b[0m \u001b[1;32mfor\u001b[0m \u001b[0midx\u001b[0m \u001b[1;32min\u001b[0m \u001b[0mpossibly_batched_index\u001b[0m\u001b[1;33m]\u001b[0m\u001b[1;33m\u001b[0m\u001b[1;33m\u001b[0m\u001b[0m\n\u001b[0m\u001b[0;32m     50\u001b[0m         \u001b[1;32melse\u001b[0m\u001b[1;33m:\u001b[0m\u001b[1;33m\u001b[0m\u001b[1;33m\u001b[0m\u001b[0m\n\u001b[0;32m     51\u001b[0m             \u001b[0mdata\u001b[0m \u001b[1;33m=\u001b[0m \u001b[0mself\u001b[0m\u001b[1;33m.\u001b[0m\u001b[0mdataset\u001b[0m\u001b[1;33m[\u001b[0m\u001b[0mpossibly_batched_index\u001b[0m\u001b[1;33m]\u001b[0m\u001b[1;33m\u001b[0m\u001b[1;33m\u001b[0m\u001b[0m\n",
      "\u001b[1;32m~\\AppData\\Local\\Temp/ipykernel_21780/2962152243.py\u001b[0m in \u001b[0;36m__getitem__\u001b[1;34m(self, index)\u001b[0m\n\u001b[0;32m     23\u001b[0m         \u001b[0msat_img_path\u001b[0m \u001b[1;33m=\u001b[0m \u001b[0mself\u001b[0m\u001b[1;33m.\u001b[0m\u001b[0mcsv_file\u001b[0m\u001b[1;33m[\u001b[0m\u001b[1;34m\"sat_image_path\"\u001b[0m\u001b[1;33m]\u001b[0m\u001b[1;33m.\u001b[0m\u001b[0mwhere\u001b[0m\u001b[1;33m(\u001b[0m\u001b[0mself\u001b[0m\u001b[1;33m.\u001b[0m\u001b[0mcsv_file\u001b[0m\u001b[1;33m[\u001b[0m\u001b[1;34m\"split\"\u001b[0m\u001b[1;33m]\u001b[0m \u001b[1;33m==\u001b[0m \u001b[0mself\u001b[0m\u001b[1;33m.\u001b[0m\u001b[0msplit\u001b[0m\u001b[1;33m)\u001b[0m\u001b[1;33m.\u001b[0m\u001b[0mdropna\u001b[0m\u001b[1;33m(\u001b[0m\u001b[0maxis\u001b[0m \u001b[1;33m=\u001b[0m \u001b[1;36m0\u001b[0m\u001b[1;33m,\u001b[0m \u001b[0mhow\u001b[0m \u001b[1;33m=\u001b[0m \u001b[1;34m'all'\u001b[0m\u001b[1;33m)\u001b[0m\u001b[1;33m[\u001b[0m\u001b[0mindex\u001b[0m\u001b[1;33m]\u001b[0m\u001b[1;33m\u001b[0m\u001b[1;33m\u001b[0m\u001b[0m\n\u001b[0;32m     24\u001b[0m         \u001b[0mmask_img_path\u001b[0m \u001b[1;33m=\u001b[0m \u001b[0mself\u001b[0m\u001b[1;33m.\u001b[0m\u001b[0mcsv_file\u001b[0m\u001b[1;33m[\u001b[0m\u001b[1;34m\"mask_path\"\u001b[0m\u001b[1;33m]\u001b[0m\u001b[1;33m.\u001b[0m\u001b[0mwhere\u001b[0m\u001b[1;33m(\u001b[0m\u001b[0mself\u001b[0m\u001b[1;33m.\u001b[0m\u001b[0mcsv_file\u001b[0m\u001b[1;33m[\u001b[0m\u001b[1;34m\"split\"\u001b[0m\u001b[1;33m]\u001b[0m \u001b[1;33m==\u001b[0m \u001b[0mself\u001b[0m\u001b[1;33m.\u001b[0m\u001b[0msplit\u001b[0m\u001b[1;33m)\u001b[0m\u001b[1;33m.\u001b[0m\u001b[0mdropna\u001b[0m\u001b[1;33m(\u001b[0m\u001b[0maxis\u001b[0m \u001b[1;33m=\u001b[0m \u001b[1;36m0\u001b[0m\u001b[1;33m,\u001b[0m \u001b[0mhow\u001b[0m \u001b[1;33m=\u001b[0m \u001b[1;34m'all'\u001b[0m\u001b[1;33m)\u001b[0m\u001b[1;33m[\u001b[0m\u001b[0mindex\u001b[0m\u001b[1;33m]\u001b[0m\u001b[1;33m\u001b[0m\u001b[1;33m\u001b[0m\u001b[0m\n\u001b[1;32m---> 25\u001b[1;33m         \u001b[0msat_img\u001b[0m \u001b[1;33m=\u001b[0m \u001b[0mImage\u001b[0m\u001b[1;33m.\u001b[0m\u001b[0mopen\u001b[0m\u001b[1;33m(\u001b[0m\u001b[0msat_img_path\u001b[0m\u001b[1;33m)\u001b[0m\u001b[1;33m.\u001b[0m\u001b[0mconvert\u001b[0m\u001b[1;33m(\u001b[0m\u001b[1;34m\"RGB\"\u001b[0m\u001b[1;33m)\u001b[0m\u001b[1;33m\u001b[0m\u001b[1;33m\u001b[0m\u001b[0m\n\u001b[0m\u001b[0;32m     26\u001b[0m         \u001b[0mmask_img\u001b[0m \u001b[1;33m=\u001b[0m \u001b[0mImage\u001b[0m\u001b[1;33m.\u001b[0m\u001b[0mopen\u001b[0m\u001b[1;33m(\u001b[0m\u001b[0mmask_img_path\u001b[0m\u001b[1;33m)\u001b[0m\u001b[1;33m.\u001b[0m\u001b[0mconvert\u001b[0m\u001b[1;33m(\u001b[0m\u001b[1;34m\"RGB\"\u001b[0m\u001b[1;33m)\u001b[0m\u001b[1;33m\u001b[0m\u001b[1;33m\u001b[0m\u001b[0m\n\u001b[0;32m     27\u001b[0m \u001b[1;33m\u001b[0m\u001b[0m\n",
      "\u001b[1;32mC:\\Python39\\lib\\site-packages\\PIL\\Image.py\u001b[0m in \u001b[0;36mconvert\u001b[1;34m(self, mode, matrix, dither, palette, colors)\u001b[0m\n\u001b[0;32m    913\u001b[0m         \"\"\"\n\u001b[0;32m    914\u001b[0m \u001b[1;33m\u001b[0m\u001b[0m\n\u001b[1;32m--> 915\u001b[1;33m         \u001b[0mself\u001b[0m\u001b[1;33m.\u001b[0m\u001b[0mload\u001b[0m\u001b[1;33m(\u001b[0m\u001b[1;33m)\u001b[0m\u001b[1;33m\u001b[0m\u001b[1;33m\u001b[0m\u001b[0m\n\u001b[0m\u001b[0;32m    916\u001b[0m \u001b[1;33m\u001b[0m\u001b[0m\n\u001b[0;32m    917\u001b[0m         \u001b[0mhas_transparency\u001b[0m \u001b[1;33m=\u001b[0m \u001b[0mself\u001b[0m\u001b[1;33m.\u001b[0m\u001b[0minfo\u001b[0m\u001b[1;33m.\u001b[0m\u001b[0mget\u001b[0m\u001b[1;33m(\u001b[0m\u001b[1;34m\"transparency\"\u001b[0m\u001b[1;33m)\u001b[0m \u001b[1;32mis\u001b[0m \u001b[1;32mnot\u001b[0m \u001b[1;32mNone\u001b[0m\u001b[1;33m\u001b[0m\u001b[1;33m\u001b[0m\u001b[0m\n",
      "\u001b[1;32mC:\\Python39\\lib\\site-packages\\PIL\\ImageFile.py\u001b[0m in \u001b[0;36mload\u001b[1;34m(self)\u001b[0m\n\u001b[0;32m    253\u001b[0m \u001b[1;33m\u001b[0m\u001b[0m\n\u001b[0;32m    254\u001b[0m                             \u001b[0mb\u001b[0m \u001b[1;33m=\u001b[0m \u001b[0mb\u001b[0m \u001b[1;33m+\u001b[0m \u001b[0ms\u001b[0m\u001b[1;33m\u001b[0m\u001b[1;33m\u001b[0m\u001b[0m\n\u001b[1;32m--> 255\u001b[1;33m                             \u001b[0mn\u001b[0m\u001b[1;33m,\u001b[0m \u001b[0merr_code\u001b[0m \u001b[1;33m=\u001b[0m \u001b[0mdecoder\u001b[0m\u001b[1;33m.\u001b[0m\u001b[0mdecode\u001b[0m\u001b[1;33m(\u001b[0m\u001b[0mb\u001b[0m\u001b[1;33m)\u001b[0m\u001b[1;33m\u001b[0m\u001b[1;33m\u001b[0m\u001b[0m\n\u001b[0m\u001b[0;32m    256\u001b[0m                             \u001b[1;32mif\u001b[0m \u001b[0mn\u001b[0m \u001b[1;33m<\u001b[0m \u001b[1;36m0\u001b[0m\u001b[1;33m:\u001b[0m\u001b[1;33m\u001b[0m\u001b[1;33m\u001b[0m\u001b[0m\n\u001b[0;32m    257\u001b[0m                                 \u001b[1;32mbreak\u001b[0m\u001b[1;33m\u001b[0m\u001b[1;33m\u001b[0m\u001b[0m\n",
      "\u001b[1;31mKeyboardInterrupt\u001b[0m: "
     ]
    }
   ],
   "source": [
    "epoch_loss_list = []\n",
    "loop = tqdm(range(num_epochs),total = num_epochs)\n",
    "for epoch in loop:\n",
    "    epoch_loss = 0\n",
    "    for sat_img, mask_img in train_loader:\n",
    "        # Forward Propagation:\n",
    "        sat_img = sat_img.to(device)\n",
    "        mask_img = mask_img.type(torch.FloatTensor).to(device)\n",
    "        output = model(sat_img)\n",
    "        # Backward Propagation:\n",
    "        loss = criterion(output, mask_img)\n",
    "        epoch_loss+=loss.item()\n",
    "        optimizer.zero_grad()\n",
    "        loss.backward()\n",
    "        optimizer.step()\n",
    "        time.sleep(0.01)\n",
    "        loop.set_postfix({\"Loss_batch\":loss.item()})\n",
    "    epoch_loss_list.append(epoch_loss/(len(train_dataset) / batch_size))\n",
    "    loop.set_postfix({\"Loss_Epoch\":epoch_loss})"
   ]
  },
  {
   "cell_type": "markdown",
   "id": "scenic-pearl",
   "metadata": {},
   "source": [
    "## Epoch Loss Plot"
   ]
  },
  {
   "cell_type": "code",
   "execution_count": null,
   "id": "limited-update",
   "metadata": {},
   "outputs": [],
   "source": [
    "## Plot Epoch Loss:\n",
    "plt.figure(dpi=150)\n",
    "plt.plot([epoch for epoch in range(num_epochs)], epoch_loss_list)\n",
    "plt.xlabel(\"Epoch Number\")\n",
    "plt.ylabel(\"Epoch Train Loss\")\n",
    "plt.title(\"CNN Train Loss plot Per Epoch\")\n",
    "plt.show()"
   ]
  }
 ],
 "metadata": {
  "kernelspec": {
   "display_name": "Python 3 (ipykernel)",
   "language": "python",
   "name": "python3"
  },
  "language_info": {
   "codemirror_mode": {
    "name": "ipython",
    "version": 3
   },
   "file_extension": ".py",
   "mimetype": "text/x-python",
   "name": "python",
   "nbconvert_exporter": "python",
   "pygments_lexer": "ipython3",
   "version": "3.9.7"
  }
 },
 "nbformat": 4,
 "nbformat_minor": 5
}
