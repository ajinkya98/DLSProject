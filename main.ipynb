{
 "cells": [
  {
   "cell_type": "markdown",
   "id": "impaired-raleigh",
   "metadata": {},
   "source": [
    "## Importing Libraries"
   ]
  },
  {
   "cell_type": "code",
   "execution_count": 1,
   "id": "dress-fifteen",
   "metadata": {},
   "outputs": [],
   "source": [
    "import pandas as pd\n",
    "import os\n",
    "import torch\n",
    "from torch.utils.data import Dataset\n",
    "import torchvision.transforms as transforms\n",
    "from PIL import Image\n",
    "import torch.nn as nn\n",
    "import torchvision.models as models\n",
    "import torch.nn as nn\n",
    "from torch.utils.data import DataLoader"
   ]
  },
  {
   "cell_type": "markdown",
   "id": "innocent-doctrine",
   "metadata": {},
   "source": [
    "## Setting Device to GPU for faster training"
   ]
  },
  {
   "cell_type": "code",
   "execution_count": 2,
   "id": "spiritual-whale",
   "metadata": {},
   "outputs": [],
   "source": [
    "device = (\"cuda\" if torch.cuda.is_available() else \"cpu\")"
   ]
  },
  {
   "cell_type": "markdown",
   "id": "modular-forty",
   "metadata": {},
   "source": [
    "## Custom Dataset For Training Images"
   ]
  },
  {
   "cell_type": "code",
   "execution_count": 3,
   "id": "bound-poultry",
   "metadata": {},
   "outputs": [],
   "source": [
    "class SatelliteImagesTrain(Dataset):\n",
    "    def __init__(self, csv_file, split, transform=None):\n",
    "        self.csv_file = pd.read_csv(csv_file)\n",
    "        self.transform = transform\n",
    "        self.split = split\n",
    "        \n",
    "    def __len__(self):\n",
    "        return len(self.csv_file.where(self.csv_file[\"split\"] == self.split).dropna(axis = 0, how = 'all'))\n",
    "\n",
    "    def __getitem__(self, index):\n",
    "        sat_img_path = self.csv_file[\"sat_image_path\"].where(self.csv_file[\"split\"] == self.split).dropna(axis = 0, how = 'all')[index]\n",
    "        mask_img_path = self.csv_file[\"mask_path\"].where(self.csv_file[\"split\"] == self.split).dropna(axis = 0, how = 'all')[index]\n",
    "        sat_img = Image.open(sat_img_path).convert(\"RGB\")\n",
    "        mask_img = Image.open(mask_img_path).convert(\"RGB\")\n",
    "        \n",
    "        if self.transform is not None:\n",
    "            sat_img = self.transform(sat_img)\n",
    "            mask_img = self.transform(mask_img)\n",
    "\n",
    "        return (sat_img, mask_img)"
   ]
  },
  {
   "cell_type": "markdown",
   "id": "turned-complement",
   "metadata": {},
   "source": [
    "## Custom Dataset for validation and test set"
   ]
  },
  {
   "cell_type": "code",
   "execution_count": 4,
   "id": "exceptional-controversy",
   "metadata": {},
   "outputs": [],
   "source": [
    "class SatelliteImagesTestValid(Dataset):\n",
    "    def __init__(self, csv_file, split, transform=None):\n",
    "        self.csv_file = pd.read_csv(csv_file)\n",
    "        self.transform = transform\n",
    "        self.split = split\n",
    "        \n",
    "    def __len__(self):\n",
    "        return len(self.csv_file.where(self.csv_file[\"split\"] == self.split).dropna(axis = 0, how = 'all').reset_index(drop = True))\n",
    "\n",
    "    def __getitem__(self, index):\n",
    "        sat_img_path = self.csv_file[\"sat_image_path\"].where(self.csv_file[\"split\"] == self.split).dropna(axis = 0, how = 'all').reset_index(drop = True)[index]\n",
    "        sat_img = Image.open(sat_img_path).convert(\"RGB\")\n",
    "        \n",
    "        if self.transform is not None:\n",
    "            sat_img = self.transform(sat_img)\n",
    "\n",
    "        return sat_img"
   ]
  },
  {
   "cell_type": "code",
   "execution_count": 5,
   "id": "short-warren",
   "metadata": {},
   "outputs": [],
   "source": [
    "train_dataset = SatelliteImagesTrain(csv_file = \"metadata.csv\",split = \"train\", transform = transforms.ToTensor())"
   ]
  },
  {
   "cell_type": "code",
   "execution_count": 6,
   "id": "viral-inspiration",
   "metadata": {},
   "outputs": [],
   "source": [
    "valid_dataset = SatelliteImagesTestValid(csv_file = \"metadata.csv\",split = \"valid\", transform = transforms.ToTensor())"
   ]
  },
  {
   "cell_type": "code",
   "execution_count": 7,
   "id": "painted-needle",
   "metadata": {},
   "outputs": [],
   "source": [
    "test_dataset = SatelliteImagesTestValid(csv_file = \"metadata.csv\",split = \"test\", transform = transforms.ToTensor())"
   ]
  },
  {
   "cell_type": "code",
   "execution_count": 8,
   "id": "prospective-location",
   "metadata": {},
   "outputs": [
    {
     "data": {
      "text/plain": [
       "803"
      ]
     },
     "execution_count": 8,
     "metadata": {},
     "output_type": "execute_result"
    }
   ],
   "source": [
    "len(train_dataset)"
   ]
  },
  {
   "cell_type": "code",
   "execution_count": 9,
   "id": "protecting-integer",
   "metadata": {},
   "outputs": [
    {
     "data": {
      "text/plain": [
       "171"
      ]
     },
     "execution_count": 9,
     "metadata": {},
     "output_type": "execute_result"
    }
   ],
   "source": [
    "len(valid_dataset)"
   ]
  },
  {
   "cell_type": "code",
   "execution_count": 10,
   "id": "prostate-context",
   "metadata": {},
   "outputs": [
    {
     "data": {
      "text/plain": [
       "172"
      ]
     },
     "execution_count": 10,
     "metadata": {},
     "output_type": "execute_result"
    }
   ],
   "source": [
    "len(test_dataset)"
   ]
  },
  {
   "cell_type": "markdown",
   "id": "lasting-highland",
   "metadata": {},
   "source": [
    "## Testing by printing images sizes and correspondiong tensors"
   ]
  },
  {
   "cell_type": "code",
   "execution_count": 11,
   "id": "combined-jacket",
   "metadata": {},
   "outputs": [
    {
     "name": "stdout",
     "output_type": "stream",
     "text": [
      "torch.Size([3, 2448, 2448])\n",
      "torch.Size([3, 2448, 2448])\n",
      "tensor([[[1., 1., 1.,  ..., 1., 1., 1.],\n",
      "         [1., 1., 1.,  ..., 1., 1., 1.],\n",
      "         [1., 1., 1.,  ..., 1., 1., 1.],\n",
      "         ...,\n",
      "         [1., 1., 1.,  ..., 1., 1., 1.],\n",
      "         [1., 1., 1.,  ..., 1., 1., 1.],\n",
      "         [1., 1., 1.,  ..., 1., 1., 1.]],\n",
      "\n",
      "        [[1., 1., 1.,  ..., 1., 1., 1.],\n",
      "         [1., 1., 1.,  ..., 1., 1., 1.],\n",
      "         [1., 1., 1.,  ..., 1., 1., 1.],\n",
      "         ...,\n",
      "         [1., 1., 1.,  ..., 1., 1., 1.],\n",
      "         [1., 1., 1.,  ..., 1., 1., 1.],\n",
      "         [1., 1., 1.,  ..., 1., 1., 1.]],\n",
      "\n",
      "        [[0., 0., 0.,  ..., 0., 0., 0.],\n",
      "         [0., 0., 0.,  ..., 0., 0., 0.],\n",
      "         [0., 0., 0.,  ..., 0., 0., 0.],\n",
      "         ...,\n",
      "         [0., 0., 0.,  ..., 0., 0., 0.],\n",
      "         [0., 0., 0.,  ..., 0., 0., 0.],\n",
      "         [0., 0., 0.,  ..., 0., 0., 0.]]])\n",
      "tensor([[[0.5059, 0.5059, 0.4980,  ..., 0.4078, 0.4078, 0.4078],\n",
      "         [0.5020, 0.4980, 0.4902,  ..., 0.4039, 0.4118, 0.4275],\n",
      "         [0.4902, 0.4941, 0.5020,  ..., 0.4196, 0.4275, 0.4471],\n",
      "         ...,\n",
      "         [0.6078, 0.6157, 0.6039,  ..., 0.6157, 0.5882, 0.6118],\n",
      "         [0.5843, 0.5961, 0.5922,  ..., 0.5804, 0.5294, 0.5255],\n",
      "         [0.5843, 0.5843, 0.5843,  ..., 0.5451, 0.5373, 0.5412]],\n",
      "\n",
      "        [[0.4275, 0.4275, 0.4196,  ..., 0.3529, 0.3451, 0.3451],\n",
      "         [0.4235, 0.4196, 0.4118,  ..., 0.3451, 0.3569, 0.3647],\n",
      "         [0.4118, 0.4157, 0.4235,  ..., 0.3647, 0.3725, 0.3843],\n",
      "         ...,\n",
      "         [0.5333, 0.5412, 0.5294,  ..., 0.5686, 0.5412, 0.5647],\n",
      "         [0.5059, 0.5176, 0.5176,  ..., 0.5333, 0.4824, 0.4784],\n",
      "         [0.5059, 0.5059, 0.5059,  ..., 0.4980, 0.4902, 0.4941]],\n",
      "\n",
      "        [[0.3216, 0.3216, 0.3137,  ..., 0.2510, 0.2471, 0.2431],\n",
      "         [0.3176, 0.3137, 0.3059,  ..., 0.2549, 0.2549, 0.2627],\n",
      "         [0.3059, 0.3098, 0.3176,  ..., 0.2627, 0.2706, 0.2824],\n",
      "         ...,\n",
      "         [0.3765, 0.3843, 0.3725,  ..., 0.4039, 0.3765, 0.4000],\n",
      "         [0.3608, 0.3725, 0.3608,  ..., 0.3686, 0.3176, 0.3137],\n",
      "         [0.3765, 0.3765, 0.3765,  ..., 0.3333, 0.3255, 0.3294]]])\n"
     ]
    }
   ],
   "source": [
    "for i,j in train_dataset:\n",
    "    print(i.size()) #sat image sizse\n",
    "    print(j.size()) #mask image size\n",
    "    print(j) # mask image tensor\n",
    "    print(i) # sat image tensor\n",
    "    break"
   ]
  },
  {
   "cell_type": "code",
   "execution_count": 12,
   "id": "romance-treaty",
   "metadata": {},
   "outputs": [
    {
     "name": "stdout",
     "output_type": "stream",
     "text": [
      "torch.Size([3, 2448, 2448])\n",
      "torch.Size([3, 2448, 2448])\n",
      "tensor([[[0.3725, 0.3569, 0.3647,  ..., 0.3059, 0.2471, 0.3216],\n",
      "         [0.3647, 0.3529, 0.3490,  ..., 0.3373, 0.3216, 0.3059],\n",
      "         [0.3490, 0.3490, 0.3451,  ..., 0.3686, 0.3765, 0.3412],\n",
      "         ...,\n",
      "         [0.2902, 0.2745, 0.2667,  ..., 0.1686, 0.1961, 0.1608],\n",
      "         [0.3059, 0.3059, 0.2902,  ..., 0.1490, 0.1529, 0.1412],\n",
      "         [0.2902, 0.3216, 0.3098,  ..., 0.1373, 0.1686, 0.1765]],\n",
      "\n",
      "        [[0.3529, 0.3373, 0.3451,  ..., 0.3059, 0.2392, 0.3137],\n",
      "         [0.3451, 0.3333, 0.3294,  ..., 0.3451, 0.3216, 0.3059],\n",
      "         [0.3373, 0.3373, 0.3255,  ..., 0.3922, 0.4000, 0.3569],\n",
      "         ...,\n",
      "         [0.2824, 0.2667, 0.2588,  ..., 0.1569, 0.1882, 0.1529],\n",
      "         [0.2980, 0.2980, 0.2902,  ..., 0.1373, 0.1412, 0.1333],\n",
      "         [0.2824, 0.3137, 0.3098,  ..., 0.1137, 0.1569, 0.1647]],\n",
      "\n",
      "        [[0.2353, 0.2196, 0.2196,  ..., 0.1569, 0.0902, 0.1608],\n",
      "         [0.2275, 0.2157, 0.2118,  ..., 0.2000, 0.1804, 0.1569],\n",
      "         [0.2157, 0.2157, 0.2078,  ..., 0.2510, 0.2588, 0.2196],\n",
      "         ...,\n",
      "         [0.1922, 0.1765, 0.1686,  ..., 0.0980, 0.1294, 0.0941],\n",
      "         [0.2078, 0.2078, 0.1961,  ..., 0.0784, 0.0824, 0.0745],\n",
      "         [0.1922, 0.2235, 0.2157,  ..., 0.0588, 0.0980, 0.0980]]])\n",
      "tensor([[[0.8000, 0.8235, 0.8510,  ..., 0.5255, 0.5059, 0.4902],\n",
      "         [0.8196, 0.8549, 0.8706,  ..., 0.4941, 0.5176, 0.5059],\n",
      "         [0.8392, 0.8588, 0.8627,  ..., 0.4824, 0.4902, 0.5059],\n",
      "         ...,\n",
      "         [0.5922, 0.5412, 0.5216,  ..., 0.5098, 0.5098, 0.4980],\n",
      "         [0.5569, 0.5294, 0.4863,  ..., 0.4784, 0.4941, 0.5020],\n",
      "         [0.5333, 0.5020, 0.4627,  ..., 0.5098, 0.5137, 0.5020]],\n",
      "\n",
      "        [[0.7333, 0.7608, 0.8000,  ..., 0.4745, 0.4549, 0.4392],\n",
      "         [0.7686, 0.8039, 0.8196,  ..., 0.4431, 0.4667, 0.4549],\n",
      "         [0.8039, 0.8196, 0.8157,  ..., 0.4314, 0.4392, 0.4549],\n",
      "         ...,\n",
      "         [0.5373, 0.4941, 0.4745,  ..., 0.4157, 0.4157, 0.4039],\n",
      "         [0.4941, 0.4745, 0.4392,  ..., 0.3843, 0.4000, 0.4078],\n",
      "         [0.4706, 0.4392, 0.4078,  ..., 0.4157, 0.4196, 0.4078]],\n",
      "\n",
      "        [[0.6157, 0.6275, 0.6353,  ..., 0.3412, 0.3216, 0.3059],\n",
      "         [0.6039, 0.6392, 0.6549,  ..., 0.3098, 0.3333, 0.3216],\n",
      "         [0.5882, 0.6275, 0.6510,  ..., 0.2980, 0.3059, 0.3216],\n",
      "         ...,\n",
      "         [0.3922, 0.3451, 0.3255,  ..., 0.3059, 0.3059, 0.2941],\n",
      "         [0.3529, 0.3294, 0.2902,  ..., 0.2745, 0.2902, 0.2980],\n",
      "         [0.3294, 0.2980, 0.2706,  ..., 0.3059, 0.3098, 0.2980]]])\n"
     ]
    }
   ],
   "source": [
    "for (i,j) in zip(valid_dataset,test_dataset):\n",
    "    print(i.size()) # valid sat img size\n",
    "    print(j.size()) # test img size\n",
    "    print(j) # test sat img tensor\n",
    "    print(i) # valid sat img tensor\n",
    "    break"
   ]
  },
  {
   "cell_type": "markdown",
   "id": "painful-association",
   "metadata": {},
   "source": [
    "## Model"
   ]
  },
  {
   "cell_type": "code",
   "execution_count": null,
   "id": "wicked-north",
   "metadata": {},
   "outputs": [],
   "source": [
    "# class CNN(nn.Module)"
   ]
  },
  {
   "cell_type": "markdown",
   "id": "electoral-citizen",
   "metadata": {},
   "source": [
    "## Hyperparameters"
   ]
  },
  {
   "cell_type": "code",
   "execution_count": 13,
   "id": "accredited-basketball",
   "metadata": {},
   "outputs": [],
   "source": [
    "# Hyperparameters\n",
    "num_epochs = 10\n",
    "learning_rate = 0.001\n",
    "batch_size = 32\n",
    "shuffle = True\n",
    "pin_memory = True\n",
    "num_workers = 1"
   ]
  },
  {
   "cell_type": "markdown",
   "id": "dental-bathroom",
   "metadata": {},
   "source": [
    "## Creating dataloaders for train,valid, test from custom datasets"
   ]
  },
  {
   "cell_type": "code",
   "execution_count": 14,
   "id": "disciplinary-samoa",
   "metadata": {},
   "outputs": [],
   "source": [
    "train_loader = DataLoader(dataset=train_dataset, shuffle=shuffle, batch_size=batch_size,num_workers=num_workers,pin_memory=pin_memory)\n",
    "validation_loader = DataLoader(dataset=valid_dataset, shuffle=shuffle, batch_size=batch_size,num_workers=num_workers, pin_memory=pin_memory)\n",
    "test_loader = DataLoader(dataset=test_dataset, shuffle=shuffle, batch_size=batch_size,num_workers=num_workers, pin_memory=pin_memory)"
   ]
  },
  {
   "cell_type": "markdown",
   "id": "attractive-insider",
   "metadata": {},
   "source": [
    "## Setting the loss function, optimizer and learning rate"
   ]
  },
  {
   "cell_type": "code",
   "execution_count": 16,
   "id": "invisible-internship",
   "metadata": {},
   "outputs": [],
   "source": [
    "# model = CNN().to(device)\n",
    "criterion = nn.CrossEntropyLoss()\n",
    "# optimizer = torch.optim.Adam(model.parameters(), lr=learning_rate)"
   ]
  },
  {
   "cell_type": "markdown",
   "id": "patent-banks",
   "metadata": {},
   "source": [
    "## Helper Function to check accuracy"
   ]
  },
  {
   "cell_type": "code",
   "execution_count": 20,
   "id": "meaning-documentary",
   "metadata": {},
   "outputs": [],
   "source": [
    "# pending"
   ]
  },
  {
   "cell_type": "markdown",
   "id": "widespread-metropolitan",
   "metadata": {},
   "source": [
    "## Training Loop"
   ]
  },
  {
   "cell_type": "code",
   "execution_count": 17,
   "id": "prerequisite-showcase",
   "metadata": {},
   "outputs": [],
   "source": [
    "# epoch_loss_list = []\n",
    "# loop = tqdm(range(num_epochs),total = num_epochs)\n",
    "# for epoch in loop:\n",
    "#     epoch_loss = 0\n",
    "#     for sat_img, mask_img in train_dataloader:\n",
    "#         # Forward Propagation:\n",
    "#         sat_img = sat_img.to(device)\n",
    "#         mask_img = mask_img.to(device)\n",
    "#         output = model(sat_img)\n",
    "#         # Backward Propagation:\n",
    "#         loss = criterion(output, mask_img)\n",
    "#         epoch_loss+=loss.item()\n",
    "#         optimizer.zero_grad()\n",
    "#         loss.backward()\n",
    "#         optimizer.step()\n",
    "#     epoch_loss_list.append(loss.item())\n",
    "#     loop.set_postfix({\"Loss\":epoch_loss})"
   ]
  },
  {
   "cell_type": "markdown",
   "id": "scenic-pearl",
   "metadata": {},
   "source": [
    "## Epoch Loss Plot"
   ]
  },
  {
   "cell_type": "code",
   "execution_count": 18,
   "id": "limited-update",
   "metadata": {},
   "outputs": [],
   "source": [
    "# ## Plot Epoch Loss:\n",
    "# plt.figure(dpi=150)\n",
    "# plt.plot([epoch for epoch in range(num_epochs)], epoch_loss_list)\n",
    "# plt.xlabel(\"Epoch Number\")\n",
    "# plt.ylabel(\"Epoch Train Loss\")\n",
    "# plt.title(\"CNN Train Loss plot Per Epoch\")\n",
    "# plt.show()"
   ]
  }
 ],
 "metadata": {
  "kernelspec": {
   "display_name": "Python 3",
   "language": "python",
   "name": "python3"
  },
  "language_info": {
   "codemirror_mode": {
    "name": "ipython",
    "version": 3
   },
   "file_extension": ".py",
   "mimetype": "text/x-python",
   "name": "python",
   "nbconvert_exporter": "python",
   "pygments_lexer": "ipython3",
   "version": "3.8.3"
  }
 },
 "nbformat": 4,
 "nbformat_minor": 5
}
